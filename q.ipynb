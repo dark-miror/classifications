{
 "cells": [
  {
   "cell_type": "code",
   "execution_count": 971,
   "outputs": [],
   "source": [
    "import pandas as pd\n",
    "import numpy as np\n",
    "from tqdm.auto import tqdm"
   ],
   "metadata": {
    "collapsed": false,
    "pycharm": {
     "name": "#%%\n"
    }
   }
  },
  {
   "cell_type": "markdown",
   "source": [
    "Получение данных"
   ],
   "metadata": {
    "collapsed": false
   }
  },
  {
   "cell_type": "code",
   "execution_count": 79,
   "outputs": [],
   "source": [
    "data = pd.read_excel(io='case_dataset.xlsx', engine='openpyxl', sheet_name=['case_dataset'])\n",
    "data = data['case_dataset']"
   ],
   "metadata": {
    "collapsed": false,
    "pycharm": {
     "name": "#%%\n"
    }
   }
  },
  {
   "cell_type": "code",
   "execution_count": 80,
   "outputs": [
    {
     "data": {
      "text/plain": "  0%|          | 0/34 [00:00<?, ?it/s]",
      "application/vnd.jupyter.widget-view+json": {
       "version_major": 2,
       "version_minor": 0,
       "model_id": "5dd68892d03f444aac7039a224d7d1f6"
      }
     },
     "metadata": {},
     "output_type": "display_data"
    }
   ],
   "source": [
    "spheres = data['sphere'].unique()\n",
    "df_res = pd.DataFrame()\n",
    "for sphere in tqdm(spheres):\n",
    "    this_sphere = data[data['sphere'] == sphere]\n",
    "    df_res = df_res.append(this_sphere, ignore_index=True)"
   ],
   "metadata": {
    "collapsed": false,
    "pycharm": {
     "name": "#%%\n"
    }
   }
  },
  {
   "cell_type": "markdown",
   "source": [
    "Предобработка"
   ],
   "metadata": {
    "collapsed": false
   }
  },
  {
   "cell_type": "code",
   "execution_count": 81,
   "outputs": [],
   "source": [
    "from string import punctuation\n",
    "import re"
   ],
   "metadata": {
    "collapsed": false,
    "pycharm": {
     "name": "#%%\n"
    }
   }
  },
  {
   "cell_type": "code",
   "execution_count": 82,
   "outputs": [],
   "source": [
    "def remove_punctuation(text):\n",
    "    return \"\".join([ch if ch not in punctuation else ' ' for ch in text])\n",
    "\n",
    "def remove_numbers(text):\n",
    "    return ''.join([i if not i.isdigit() else ' ' for i in text])\n",
    "\n",
    "def remove_multiple_spaces(text):\n",
    "    return re.sub(r'\\s+', ' ', text, flags=re.I)"
   ],
   "metadata": {
    "collapsed": false,
    "pycharm": {
     "name": "#%%\n"
    }
   }
  },
  {
   "cell_type": "code",
   "execution_count": 83,
   "outputs": [
    {
     "data": {
      "text/plain": "  0%|          | 0/8066 [00:00<?, ?it/s]",
      "application/vnd.jupyter.widget-view+json": {
       "version_major": 2,
       "version_minor": 0,
       "model_id": "1d4c713198fc4e0bbdc82d13fee43f04"
      }
     },
     "metadata": {},
     "output_type": "display_data"
    }
   ],
   "source": [
    "prep_text = [remove_multiple_spaces(remove_numbers(remove_punctuation(str(text).lower()))) for text in tqdm(df_res['text'])]\n",
    "df_res['prep_text'] = prep_text"
   ],
   "metadata": {
    "collapsed": false,
    "pycharm": {
     "name": "#%%\n"
    }
   }
  },
  {
   "cell_type": "markdown",
   "source": [
    "Стемминг"
   ],
   "metadata": {
    "collapsed": false
   }
  },
  {
   "cell_type": "code",
   "execution_count": 86,
   "outputs": [],
   "source": [
    "from nltk.stem.snowball import SnowballStemmer\n",
    "from nltk import word_tokenize\n",
    "from nltk.corpus import stopwords"
   ],
   "metadata": {
    "collapsed": false,
    "pycharm": {
     "name": "#%%\n"
    }
   }
  },
  {
   "cell_type": "code",
   "execution_count": 931,
   "outputs": [],
   "source": [
    "stemmer = SnowballStemmer(\"russian\")\n",
    "russian_stopwords = stopwords.words(\"russian\")\n",
    "russian_stopwords.extend(['…', '«', '»', '...', 'здравствуйте'])"
   ],
   "metadata": {
    "collapsed": false,
    "pycharm": {
     "name": "#%%\n"
    }
   }
  },
  {
   "cell_type": "code",
   "execution_count": 88,
   "outputs": [
    {
     "data": {
      "text/plain": "  0%|          | 0/8066 [00:00<?, ?it/s]",
      "application/vnd.jupyter.widget-view+json": {
       "version_major": 2,
       "version_minor": 0,
       "model_id": "b01e9f0c9ce74b549402503e65c20bff"
      }
     },
     "metadata": {},
     "output_type": "display_data"
    }
   ],
   "source": [
    "stemmed_texts = []\n",
    "for text in tqdm(df_res['prep_text']):\n",
    "    tokens = word_tokenize(text)\n",
    "    stemmed_tokens = [stemmer.stem(token) for token in tokens if token not in russian_stopwords]\n",
    "    text = \" \".join(stemmed_tokens)\n",
    "    stemmed_texts.append(text)\n",
    "\n",
    "df_res['stem_text'] = stemmed_texts"
   ],
   "metadata": {
    "collapsed": false,
    "pycharm": {
     "name": "#%%\n"
    }
   }
  },
  {
   "cell_type": "markdown",
   "source": [
    "Лемматизация"
   ],
   "metadata": {
    "collapsed": false
   }
  },
  {
   "cell_type": "code",
   "execution_count": null,
   "outputs": [],
   "source": [
    "import pymorphy2\n",
    "import nltk\n",
    "morph = pymorphy2.MorphAnalyzer()\n",
    "\n",
    "lemm_texts_list = []\n",
    "for text in tqdm(df_res['prep_text']):\n",
    "    try:\n",
    "        sentence_words = nltk.word_tokenize(text)\n",
    "        text_lem = []\n",
    "        for i in sentence_words:\n",
    "            text_lem.append(morph.parse(i)[0].normal_form)\n",
    "        tokens = [token for token in text_lem if token != ' ' and token not in russian_stopwords]\n",
    "        text = \" \".join(tokens)\n",
    "        lemm_texts_list.append(text)\n",
    "    except Exception as e:\n",
    "        print(e.__name__)\n",
    "df_res['lemm_text'] = lemm_texts_list"
   ],
   "metadata": {
    "collapsed": false,
    "pycharm": {
     "name": "#%%\n",
     "is_executing": true
    }
   }
  },
  {
   "cell_type": "markdown",
   "source": [
    "Выбор 12 сфер\n"
   ],
   "metadata": {
    "collapsed": false,
    "pycharm": {
     "name": "#%% md\n"
    }
   }
  },
  {
   "cell_type": "code",
   "execution_count": 507,
   "outputs": [],
   "source": [
    "counter = {}\n",
    "for i in data['sphere']:\n",
    "    if i != 'Прочее':\n",
    "        counter[i] = counter.get(i, 0) + 1\n",
    "count = sorted([[j, i] for i, j in counter.items()], reverse=True)\n",
    "spheres = [i[1] for i in count[:12]]"
   ],
   "metadata": {
    "collapsed": false,
    "pycharm": {
     "name": "#%%\n"
    }
   }
  },
  {
   "cell_type": "code",
   "execution_count": 514,
   "outputs": [
    {
     "data": {
      "text/plain": "  0%|          | 0/12 [00:00<?, ?it/s]",
      "application/vnd.jupyter.widget-view+json": {
       "version_major": 2,
       "version_minor": 0,
       "model_id": "eec67a5a7d2c497fa32cc2896d53ba95"
      }
     },
     "metadata": {},
     "output_type": "display_data"
    }
   ],
   "source": [
    "df = pd.DataFrame()\n",
    "for sphere in tqdm(spheres):\n",
    "    this_sphere = df_res[df_res['sphere'] == sphere]\n",
    "    df = df.append(this_sphere, ignore_index=True)"
   ],
   "metadata": {
    "collapsed": false,
    "pycharm": {
     "name": "#%%\n"
    }
   }
  },
  {
   "cell_type": "code",
   "execution_count": 515,
   "outputs": [],
   "source": [
    "df.to_csv('format_text.csv', encoding='utf-8')"
   ],
   "metadata": {
    "collapsed": false,
    "pycharm": {
     "name": "#%%\n"
    }
   }
  },
  {
   "cell_type": "markdown",
   "source": [
    "Перевод сфер из строк в цифры\n"
   ],
   "metadata": {
    "collapsed": false
   }
  },
  {
   "cell_type": "code",
   "execution_count": 516,
   "outputs": [],
   "source": [
    "dict_spheres = {}\n",
    "for i in range(len(spheres)):\n",
    "    dict_spheres[spheres[i]] = i\n",
    "df['sphere'] = [dict_spheres[i] for i in df['sphere']]"
   ],
   "metadata": {
    "collapsed": false,
    "pycharm": {
     "name": "#%%\n"
    }
   }
  },
  {
   "cell_type": "markdown",
   "source": [
    "Классификация"
   ],
   "metadata": {
    "collapsed": false
   }
  },
  {
   "cell_type": "code",
   "execution_count": 517,
   "outputs": [],
   "source": [
    "# df = pd.read_csv('format_text.csv')\n",
    "df = df.drop(columns=['category', 'theme', 'text', 'prep_text', 'stem_text'])"
   ],
   "metadata": {
    "collapsed": false,
    "pycharm": {
     "name": "#%%\n"
    }
   }
  },
  {
   "cell_type": "code",
   "execution_count": 520,
   "outputs": [],
   "source": [
    "from sklearn.model_selection import train_test_split\n",
    "from sklearn.pipeline import Pipeline\n",
    "from sklearn.feature_extraction.text import TfidfTransformer, CountVectorizer\n",
    "from sklearn.metrics import f1_score, classification_report"
   ],
   "metadata": {
    "collapsed": false,
    "pycharm": {
     "name": "#%%\n"
    }
   }
  },
  {
   "cell_type": "code",
   "execution_count": 573,
   "outputs": [
    {
     "name": "stdout",
     "output_type": "stream",
     "text": [
      "Количество данных в y_train по классам: [1488 1197 1112 1018  271  173  168  159   90   88   81   75]\n",
      "Количество данных в y_test по классам: [372 299 278 255  68  43  42  40  23  22  20  19]\n"
     ]
    }
   ],
   "source": [
    "X = df['lemm_text']\n",
    "y = df['sphere']\n",
    "X_train, X_test, y_train, y_test = train_test_split(X, y, test_size=0.2, random_state=0, stratify=y)\n",
    "\n",
    "print(f\"Количество данных в y_train по классам: {np.bincount(y_train)}\")\n",
    "print(f\"Количество данных в y_test по классам: {np.bincount(y_test)}\")"
   ],
   "metadata": {
    "collapsed": false,
    "pycharm": {
     "name": "#%%\n"
    }
   }
  },
  {
   "cell_type": "markdown",
   "source": [
    "LogisticRegression"
   ],
   "metadata": {
    "collapsed": false
   }
  },
  {
   "cell_type": "code",
   "execution_count": 950,
   "outputs": [
    {
     "name": "stdout",
     "output_type": "stream",
     "text": [
      "f1_score 0.8102467111517623\n",
      "                                                                                                   precision    recall  f1-score   support\n",
      "\n",
      "                                                                   Жилищно-коммунальное хозяйство       0.72      0.86      0.79       372\n",
      "                                                                                  Здравоохранение       0.93      0.97      0.95       299\n",
      "Благоустройство населённых пунктов (площади, парки, скверы, улицы, дворовые территории, кладбища)       0.71      0.79      0.75       278\n",
      "                                                                             Автомобильные дороги       0.85      0.85      0.85       255\n",
      "                                                                 Социальное обеспечение населения       0.67      0.63      0.65        68\n",
      "                                                                      Общественный транспорт (ОТ)       0.88      0.67      0.76        43\n",
      "                                                                                      Образование       0.96      0.60      0.74        42\n",
      "                                                    Строительство, градостроительная деятельность       0.95      0.53      0.68        40\n",
      "                                                                                     Правопорядок       1.00      0.30      0.47        23\n",
      "                                                                                         Экология       1.00      0.23      0.37        22\n",
      "                                                                               Трудовые отношения       1.00      0.20      0.33        20\n",
      "                                                        Неправомерная деятельность органов власти       1.00      0.05      0.10        19\n",
      "\n",
      "                                                                                         accuracy                           0.80      1481\n",
      "                                                                                        macro avg       0.89      0.56      0.62      1481\n",
      "                                                                                     weighted avg       0.82      0.80      0.79      1481\n",
      "\n"
     ]
    }
   ],
   "source": [
    "from sklearn.linear_model import LogisticRegression\n",
    "lr = Pipeline([('vect', CountVectorizer()),\n",
    "               ('tfidf', TfidfTransformer()),\n",
    "               ('clf', LogisticRegression(solver='saga'))])\n",
    "\n",
    "lr.fit(X_train, y_train)\n",
    "y_pred = lr.predict(X_test)\n",
    "\n",
    "print('f1_score %s' % f1_score(y_pred, y_test, average='weighted'))\n",
    "print(classification_report(y_test, y_pred, target_names=spheres))"
   ],
   "metadata": {
    "collapsed": false,
    "pycharm": {
     "name": "#%%\n"
    }
   }
  },
  {
   "cell_type": "markdown",
   "source": [
    "для презентации"
   ],
   "metadata": {
    "collapsed": false
   }
  },
  {
   "cell_type": "code",
   "execution_count": null,
   "outputs": [],
   "source": [
    "df_res['text'][6]"
   ],
   "metadata": {
    "collapsed": false,
    "pycharm": {
     "name": "#%%\n",
     "is_executing": true
    }
   }
  },
  {
   "cell_type": "code",
   "execution_count": null,
   "outputs": [],
   "source": [
    "list(df_res['lemm_text'])"
   ],
   "metadata": {
    "collapsed": false,
    "pycharm": {
     "name": "#%%\n",
     "is_executing": true
    }
   }
  },
  {
   "cell_type": "code",
   "execution_count": null,
   "outputs": [],
   "source": [
    "np.set_printoptions(threshold=1000)\n",
    "lr['vect'].fit_transform(list(df['lemm_text'])[2:7])[4].toarray()"
   ],
   "metadata": {
    "collapsed": false,
    "pycharm": {
     "name": "#%%\n",
     "is_executing": true
    }
   }
  },
  {
   "cell_type": "code",
   "execution_count": null,
   "outputs": [],
   "source": [
    "np.set_printoptions(threshold=1000)\n",
    "T = lr['vect'].fit_transform(list(df['lemm_text'])[4:7]).toarray()\n",
    "lr['tfidf'].fit_transform(T)[2].toarray()"
   ],
   "metadata": {
    "collapsed": false,
    "pycharm": {
     "name": "#%%\n",
     "is_executing": true
    }
   }
  },
  {
   "cell_type": "markdown",
   "source": [
    "PassiveAggressiveClassifier\n"
   ],
   "metadata": {
    "collapsed": false
   }
  },
  {
   "cell_type": "code",
   "execution_count": 694,
   "outputs": [
    {
     "name": "stdout",
     "output_type": "stream",
     "text": [
      "f1_score 0.8192588474798953\n",
      "                                                                                                   precision    recall  f1-score   support\n",
      "\n",
      "                                                                   Жилищно-коммунальное хозяйство       0.85      0.82      0.83       372\n",
      "                                                                                  Здравоохранение       0.94      0.96      0.95       299\n",
      "Благоустройство населённых пунктов (площади, парки, скверы, улицы, дворовые территории, кладбища)       0.73      0.76      0.74       278\n",
      "                                                                             Автомобильные дороги       0.78      0.84      0.81       255\n",
      "                                                                 Социальное обеспечение населения       0.72      0.71      0.71        68\n",
      "                                                                      Общественный транспорт (ОТ)       0.88      0.88      0.88        43\n",
      "                                                                                      Образование       0.88      0.71      0.79        42\n",
      "                                                    Строительство, градостроительная деятельность       0.81      0.72      0.76        40\n",
      "                                                                                     Правопорядок       0.88      0.61      0.72        23\n",
      "                                                                                         Экология       0.83      0.68      0.75        22\n",
      "                                                                               Трудовые отношения       0.59      0.65      0.62        20\n",
      "                                                        Неправомерная деятельность органов власти       0.47      0.37      0.41        19\n",
      "\n",
      "                                                                                         accuracy                           0.82      1481\n",
      "                                                                                        macro avg       0.78      0.73      0.75      1481\n",
      "                                                                                     weighted avg       0.82      0.82      0.82      1481\n",
      "\n"
     ]
    }
   ],
   "source": [
    "from sklearn.linear_model import PassiveAggressiveClassifier\n",
    "PAC = Pipeline([('vect', CountVectorizer()),\n",
    "               ('tfidf', TfidfTransformer()),\n",
    "               ('clf', PassiveAggressiveClassifier(max_iter=5000, early_stopping=True, validation_fraction=0.2, n_iter_no_change=3))])\n",
    "\n",
    "PAC.fit(X_train, y_train)\n",
    "y_pred = PAC.predict(X_test)\n",
    "\n",
    "print('f1_score %s' % f1_score(y_pred, y_test, average='weighted'))\n",
    "print(classification_report(y_test, y_pred, target_names=spheres))"
   ],
   "metadata": {
    "collapsed": false,
    "pycharm": {
     "name": "#%%\n"
    }
   }
  },
  {
   "cell_type": "markdown",
   "source": [
    "Perceptron\n"
   ],
   "metadata": {
    "collapsed": false,
    "pycharm": {
     "name": "#%% md\n"
    }
   }
  },
  {
   "cell_type": "code",
   "execution_count": 696,
   "outputs": [
    {
     "name": "stdout",
     "output_type": "stream",
     "text": [
      "f1_score 0.8028951044078295\n",
      "                                                                                                   precision    recall  f1-score   support\n",
      "\n",
      "                                                                   Жилищно-коммунальное хозяйство       0.85      0.83      0.84       372\n",
      "                                                                                  Здравоохранение       0.94      0.95      0.94       299\n",
      "Благоустройство населённых пунктов (площади, парки, скверы, улицы, дворовые территории, кладбища)       0.75      0.70      0.72       278\n",
      "                                                                             Автомобильные дороги       0.77      0.85      0.80       255\n",
      "                                                                 Социальное обеспечение населения       0.63      0.65      0.64        68\n",
      "                                                                      Общественный транспорт (ОТ)       0.73      0.88      0.80        43\n",
      "                                                                                      Образование       0.69      0.64      0.67        42\n",
      "                                                    Строительство, градостроительная деятельность       0.79      0.68      0.73        40\n",
      "                                                                                     Правопорядок       0.71      0.65      0.68        23\n",
      "                                                                                         Экология       0.78      0.64      0.70        22\n",
      "                                                                               Трудовые отношения       0.65      0.55      0.59        20\n",
      "                                                        Неправомерная деятельность органов власти       0.43      0.53      0.48        19\n",
      "\n",
      "                                                                                         accuracy                           0.80      1481\n",
      "                                                                                        macro avg       0.73      0.71      0.72      1481\n",
      "                                                                                     weighted avg       0.80      0.80      0.80      1481\n",
      "\n"
     ]
    }
   ],
   "source": [
    "from sklearn.linear_model import Perceptron\n",
    "prc = Pipeline([('vect', CountVectorizer()),\n",
    "               ('tfidf', TfidfTransformer()),\n",
    "               ('clf', Perceptron(max_iter=5000, early_stopping=True, validation_fraction=0.1, n_iter_no_change=8))])\n",
    "\n",
    "prc.fit(X_train, y_train)\n",
    "y_pred = prc.predict(X_test)\n",
    "\n",
    "print('f1_score %s' % f1_score(y_pred, y_test, average='weighted'))\n",
    "print(classification_report(y_test, y_pred, target_names=spheres))"
   ],
   "metadata": {
    "collapsed": false,
    "pycharm": {
     "name": "#%%\n"
    }
   }
  },
  {
   "cell_type": "markdown",
   "source": [
    "RidgeClassifier"
   ],
   "metadata": {
    "collapsed": false
   }
  },
  {
   "cell_type": "code",
   "execution_count": 711,
   "outputs": [
    {
     "name": "stdout",
     "output_type": "stream",
     "text": [
      "f1_score 0.8278100440011483\n",
      "                                                                                                   precision    recall  f1-score   support\n",
      "\n",
      "                                                                   Жилищно-коммунальное хозяйство       0.80      0.86      0.83       372\n",
      "                                                                                  Здравоохранение       0.93      0.97      0.95       299\n",
      "Благоустройство населённых пунктов (площади, парки, скверы, улицы, дворовые территории, кладбища)       0.73      0.77      0.75       278\n",
      "                                                                             Автомобильные дороги       0.82      0.84      0.83       255\n",
      "                                                                 Социальное обеспечение населения       0.71      0.71      0.71        68\n",
      "                                                                      Общественный транспорт (ОТ)       0.90      0.86      0.88        43\n",
      "                                                                                      Образование       0.91      0.69      0.78        42\n",
      "                                                    Строительство, градостроительная деятельность       0.93      0.68      0.78        40\n",
      "                                                                                     Правопорядок       1.00      0.61      0.76        23\n",
      "                                                                                         Экология       0.81      0.59      0.68        22\n",
      "                                                                               Трудовые отношения       0.85      0.55      0.67        20\n",
      "                                                        Неправомерная деятельность органов власти       0.60      0.16      0.25        19\n",
      "\n",
      "                                                                                         accuracy                           0.82      1481\n",
      "                                                                                        macro avg       0.83      0.69      0.74      1481\n",
      "                                                                                     weighted avg       0.82      0.82      0.82      1481\n",
      "\n"
     ]
    }
   ],
   "source": [
    "from sklearn.linear_model import RidgeClassifier\n",
    "ridge = Pipeline([('vect', CountVectorizer()),\n",
    "               ('tfidf', TfidfTransformer()),\n",
    "               ('clf', RidgeClassifier())])\n",
    "\n",
    "ridge.fit(X_train, y_train)\n",
    "y_pred = ridge.predict(X_test)\n",
    "\n",
    "print('f1_score %s' % f1_score(y_pred, y_test, average='weighted'))\n",
    "print(classification_report(y_test, y_pred, target_names=spheres))"
   ],
   "metadata": {
    "collapsed": false,
    "pycharm": {
     "name": "#%%\n"
    }
   }
  },
  {
   "cell_type": "markdown",
   "source": [
    "SGDClassifier\n"
   ],
   "metadata": {
    "collapsed": false
   }
  },
  {
   "cell_type": "code",
   "execution_count": 749,
   "outputs": [
    {
     "name": "stdout",
     "output_type": "stream",
     "text": [
      "f1_score 0.8257827398530792\n",
      "                                                                                                   precision    recall  f1-score   support\n",
      "\n",
      "                                                                   Жилищно-коммунальное хозяйство       0.82      0.85      0.83       372\n",
      "                                                                                  Здравоохранение       0.94      0.96      0.95       299\n",
      "Благоустройство населённых пунктов (площади, парки, скверы, улицы, дворовые территории, кладбища)       0.74      0.74      0.74       278\n",
      "                                                                             Автомобильные дороги       0.81      0.85      0.83       255\n",
      "                                                                 Социальное обеспечение населения       0.68      0.74      0.71        68\n",
      "                                                                      Общественный транспорт (ОТ)       0.86      0.88      0.87        43\n",
      "                                                                                      Образование       0.86      0.71      0.78        42\n",
      "                                                    Строительство, градостроительная деятельность       0.83      0.72      0.77        40\n",
      "                                                                                     Правопорядок       0.94      0.65      0.77        23\n",
      "                                                                                         Экология       0.79      0.68      0.73        22\n",
      "                                                                               Трудовые отношения       0.85      0.55      0.67        20\n",
      "                                                        Неправомерная деятельность органов власти       0.78      0.37      0.50        19\n",
      "\n",
      "                                                                                         accuracy                           0.82      1481\n",
      "                                                                                        macro avg       0.82      0.73      0.76      1481\n",
      "                                                                                     weighted avg       0.82      0.82      0.82      1481\n",
      "\n"
     ]
    }
   ],
   "source": [
    "from sklearn.linear_model import SGDClassifier\n",
    "sgd = Pipeline([('vect', CountVectorizer()),\n",
    "               ('tfidf', TfidfTransformer()),\n",
    "               ('clf', SGDClassifier(max_iter=5000))])\n",
    "\n",
    "sgd.fit(X_train, y_train)\n",
    "y_pred = sgd.predict(X_test)\n",
    "\n",
    "print('f1_score %s' % f1_score(y_pred, y_test, average='weighted'))\n",
    "print(classification_report(y_test, y_pred, target_names=spheres))"
   ],
   "metadata": {
    "collapsed": false,
    "pycharm": {
     "name": "#%%\n"
    }
   }
  },
  {
   "cell_type": "markdown",
   "source": [
    "ComplementNB\n"
   ],
   "metadata": {
    "collapsed": false
   }
  },
  {
   "cell_type": "code",
   "execution_count": 786,
   "outputs": [
    {
     "name": "stdout",
     "output_type": "stream",
     "text": [
      "f1_score 0.8068382960409166\n",
      "                                                                                                   precision    recall  f1-score   support\n",
      "\n",
      "                                                                   Жилищно-коммунальное хозяйство       0.81      0.84      0.83       372\n",
      "                                                                                  Здравоохранение       0.87      0.99      0.93       299\n",
      "Благоустройство населённых пунктов (площади, парки, скверы, улицы, дворовые территории, кладбища)       0.76      0.71      0.73       278\n",
      "                                                                             Автомобильные дороги       0.73      0.89      0.80       255\n",
      "                                                                 Социальное обеспечение населения       0.62      0.68      0.65        68\n",
      "                                                                      Общественный транспорт (ОТ)       0.91      0.67      0.77        43\n",
      "                                                                                      Образование       0.86      0.45      0.59        42\n",
      "                                                    Строительство, градостроительная деятельность       1.00      0.60      0.75        40\n",
      "                                                                                     Правопорядок       1.00      0.48      0.65        23\n",
      "                                                                                         Экология       0.80      0.36      0.50        22\n",
      "                                                                               Трудовые отношения       1.00      0.10      0.18        20\n",
      "                                                        Неправомерная деятельность органов власти       0.50      0.05      0.10        19\n",
      "\n",
      "                                                                                         accuracy                           0.79      1481\n",
      "                                                                                        macro avg       0.82      0.57      0.62      1481\n",
      "                                                                                     weighted avg       0.80      0.79      0.78      1481\n",
      "\n"
     ]
    }
   ],
   "source": [
    "from sklearn.naive_bayes import ComplementNB\n",
    "complement = Pipeline([('vect', CountVectorizer()),\n",
    "               ('tfidf', TfidfTransformer()),\n",
    "               ('clf', ComplementNB())])\n",
    "\n",
    "complement.fit(X_train, y_train)\n",
    "y_pred = complement.predict(X_test)\n",
    "\n",
    "print('f1_score %s' % f1_score(y_pred, y_test, average='weighted'))\n",
    "print(classification_report(y_test, y_pred, target_names=spheres))"
   ],
   "metadata": {
    "collapsed": false,
    "pycharm": {
     "name": "#%%\n"
    }
   }
  },
  {
   "cell_type": "markdown",
   "source": [
    "KNeighborsClassifier\n"
   ],
   "metadata": {
    "collapsed": false,
    "pycharm": {
     "name": "#%% md\n"
    }
   }
  },
  {
   "cell_type": "code",
   "execution_count": 840,
   "outputs": [
    {
     "name": "stdout",
     "output_type": "stream",
     "text": [
      "f1_score 0.8062593678270484\n",
      "                                                                                                   precision    recall  f1-score   support\n",
      "\n",
      "                                                                   Жилищно-коммунальное хозяйство       0.79      0.86      0.83       372\n",
      "                                                                                  Здравоохранение       0.93      0.98      0.96       299\n",
      "Благоустройство населённых пунктов (площади, парки, скверы, улицы, дворовые территории, кладбища)       0.75      0.67      0.71       278\n",
      "                                                                             Автомобильные дороги       0.70      0.87      0.78       255\n",
      "                                                                 Социальное обеспечение населения       0.66      0.68      0.67        68\n",
      "                                                                      Общественный транспорт (ОТ)       0.79      0.72      0.76        43\n",
      "                                                                                      Образование       0.88      0.67      0.76        42\n",
      "                                                    Строительство, градостроительная деятельность       0.96      0.65      0.78        40\n",
      "                                                                                     Правопорядок       1.00      0.48      0.65        23\n",
      "                                                                                         Экология       0.80      0.36      0.50        22\n",
      "                                                                               Трудовые отношения       1.00      0.05      0.10        20\n",
      "                                                        Неправомерная деятельность органов власти       0.67      0.11      0.18        19\n",
      "\n",
      "                                                                                         accuracy                           0.79      1481\n",
      "                                                                                        macro avg       0.83      0.59      0.64      1481\n",
      "                                                                                     weighted avg       0.80      0.79      0.78      1481\n",
      "\n"
     ]
    }
   ],
   "source": [
    "from sklearn.neighbors import KNeighborsClassifier\n",
    "knc = Pipeline([('vect', CountVectorizer()),\n",
    "                       ('tfidf', TfidfTransformer()),\n",
    "                       ('clf', KNeighborsClassifier(n_neighbors=13))])\n",
    "\n",
    "knc.fit(X_train, y_train)\n",
    "y_pred = knc.predict(X_test)\n",
    "\n",
    "print('f1_score %s' % f1_score(y_pred, y_test, average='weighted'))\n",
    "print(classification_report(y_test, y_pred, target_names=spheres))"
   ],
   "metadata": {
    "collapsed": false,
    "pycharm": {
     "name": "#%%\n"
    }
   }
  },
  {
   "cell_type": "markdown",
   "source": [
    "MLPClassifier\n"
   ],
   "metadata": {
    "collapsed": false
   }
  },
  {
   "cell_type": "code",
   "execution_count": 864,
   "outputs": [
    {
     "name": "stdout",
     "output_type": "stream",
     "text": [
      "f1_score 0.8136395795384818\n",
      "                                                                                                   precision    recall  f1-score   support\n",
      "\n",
      "                                                                   Жилищно-коммунальное хозяйство       0.81      0.84      0.82       372\n",
      "                                                                                  Здравоохранение       0.95      0.97      0.96       299\n",
      "Благоустройство населённых пунктов (площади, парки, скверы, улицы, дворовые территории, кладбища)       0.69      0.77      0.73       278\n",
      "                                                                             Автомобильные дороги       0.80      0.83      0.81       255\n",
      "                                                                 Социальное обеспечение населения       0.61      0.78      0.68        68\n",
      "                                                                      Общественный транспорт (ОТ)       0.92      0.77      0.84        43\n",
      "                                                                                      Образование       0.90      0.64      0.75        42\n",
      "                                                    Строительство, градостроительная деятельность       0.96      0.65      0.78        40\n",
      "                                                                                     Правопорядок       1.00      0.48      0.65        23\n",
      "                                                                                         Экология       0.89      0.36      0.52        22\n",
      "                                                                               Трудовые отношения       0.85      0.55      0.67        20\n",
      "                                                        Неправомерная деятельность органов власти       0.50      0.05      0.10        19\n",
      "\n",
      "                                                                                         accuracy                           0.81      1481\n",
      "                                                                                        macro avg       0.82      0.64      0.69      1481\n",
      "                                                                                     weighted avg       0.81      0.81      0.80      1481\n",
      "\n"
     ]
    }
   ],
   "source": [
    "from sklearn.neural_network import MLPClassifier\n",
    "mlp = Pipeline([('vect', CountVectorizer()),\n",
    "               ('tfidf', TfidfTransformer()),\n",
    "               ('clf', MLPClassifier(solver='adam', max_iter=200, early_stopping=True, n_iter_no_change=8, validation_fraction=0.15))])\n",
    "\n",
    "mlp.fit(X_train, y_train)\n",
    "y_pred = mlp.predict(X_test)\n",
    "\n",
    "print('f1_score %s' % f1_score(y_pred, y_test, average='weighted'))\n",
    "print(classification_report(y_test, y_pred, target_names=spheres))"
   ],
   "metadata": {
    "collapsed": false,
    "pycharm": {
     "name": "#%%\n"
    }
   }
  },
  {
   "cell_type": "markdown",
   "source": [
    "RandomForestClassifier\n"
   ],
   "metadata": {
    "collapsed": false,
    "pycharm": {
     "name": "#%% md\n"
    }
   }
  },
  {
   "cell_type": "code",
   "execution_count": 901,
   "outputs": [
    {
     "name": "stdout",
     "output_type": "stream",
     "text": [
      "f1_score 0.8081703421393587\n",
      "                                                                                                   precision    recall  f1-score   support\n",
      "\n",
      "                                                                   Жилищно-коммунальное хозяйство       0.76      0.86      0.81       372\n",
      "                                                                                  Здравоохранение       0.91      0.97      0.94       299\n",
      "Благоустройство населённых пунктов (площади, парки, скверы, улицы, дворовые территории, кладбища)       0.74      0.75      0.75       278\n",
      "                                                                             Автомобильные дороги       0.77      0.88      0.82       255\n",
      "                                                                 Социальное обеспечение населения       0.63      0.57      0.60        68\n",
      "                                                                      Общественный транспорт (ОТ)       0.85      0.81      0.83        43\n",
      "                                                                                      Образование       0.88      0.52      0.66        42\n",
      "                                                    Строительство, градостроительная деятельность       0.95      0.47      0.63        40\n",
      "                                                                                     Правопорядок       1.00      0.39      0.56        23\n",
      "                                                                                         Экология       1.00      0.36      0.53        22\n",
      "                                                                               Трудовые отношения       1.00      0.20      0.33        20\n",
      "                                                        Неправомерная деятельность органов власти       1.00      0.05      0.10        19\n",
      "\n",
      "                                                                                         accuracy                           0.80      1481\n",
      "                                                                                        macro avg       0.87      0.57      0.63      1481\n",
      "                                                                                     weighted avg       0.81      0.80      0.78      1481\n",
      "\n"
     ]
    }
   ],
   "source": [
    "from sklearn.ensemble import RandomForestClassifier\n",
    "rf = Pipeline([('vect', CountVectorizer()),\n",
    "                ('tfidf', TfidfTransformer()),\n",
    "                ('clf', RandomForestClassifier(bootstrap=False))])\n",
    "\n",
    "rf.fit(X_train, y_train)\n",
    "y_pred = rf.predict(X_test)\n",
    "\n",
    "print('f1_score %s' % f1_score(y_pred, y_test, average='weighted'))\n",
    "print(classification_report(y_test, y_pred, target_names=spheres))"
   ],
   "metadata": {
    "collapsed": false,
    "pycharm": {
     "name": "#%%\n"
    }
   }
  },
  {
   "cell_type": "markdown",
   "source": [
    "StackingClassifier\n"
   ],
   "metadata": {
    "collapsed": false,
    "pycharm": {
     "name": "#%% md\n"
    }
   }
  },
  {
   "cell_type": "code",
   "execution_count": 923,
   "outputs": [
    {
     "name": "stdout",
     "output_type": "stream",
     "text": [
      "f1_score 0.8340564158153034\n",
      "                                                                                                   precision    recall  f1-score   support\n",
      "\n",
      "                                                                   Жилищно-коммунальное хозяйство       0.83      0.85      0.84       372\n",
      "                                                                                  Здравоохранение       0.95      0.96      0.96       299\n",
      "Благоустройство населённых пунктов (площади, парки, скверы, улицы, дворовые территории, кладбища)       0.73      0.77      0.75       278\n",
      "                                                                             Автомобильные дороги       0.83      0.85      0.84       255\n",
      "                                                                 Социальное обеспечение населения       0.74      0.78      0.76        68\n",
      "                                                                      Общественный транспорт (ОТ)       0.88      0.86      0.87        43\n",
      "                                                                                      Образование       0.91      0.71      0.80        42\n",
      "                                                    Строительство, градостроительная деятельность       0.91      0.75      0.82        40\n",
      "                                                                                     Правопорядок       0.93      0.57      0.70        23\n",
      "                                                                                         Экология       0.88      0.68      0.77        22\n",
      "                                                                               Трудовые отношения       0.63      0.60      0.62        20\n",
      "                                                        Неправомерная деятельность органов власти       0.60      0.47      0.53        19\n",
      "\n",
      "                                                                                         accuracy                           0.83      1481\n",
      "                                                                                        macro avg       0.82      0.74      0.77      1481\n",
      "                                                                                     weighted avg       0.83      0.83      0.83      1481\n",
      "\n"
     ]
    }
   ],
   "source": [
    "from sklearn.ensemble import StackingClassifier\n",
    "from sklearn.linear_model import RidgeClassifier\n",
    "from sklearn.linear_model import LogisticRegression\n",
    "\n",
    "estimators = [('rf', RandomForestClassifier(bootstrap=False)),\n",
    "              ('ridge', RidgeClassifier())]\n",
    "stack = Pipeline([('vect', CountVectorizer()),\n",
    "               ('tfidf', TfidfTransformer()),\n",
    "               ('clf', StackingClassifier(estimators=estimators, final_estimator=LogisticRegression(solver='saga')))])\n",
    "\n",
    "stack.fit(X_train, y_train)\n",
    "y_pred = stack.predict(X_test)\n",
    "\n",
    "print('f1_score %s' % f1_score(y_pred, y_test, average='weighted'))\n",
    "print(classification_report(y_test, y_pred, target_names=spheres))"
   ],
   "metadata": {
    "collapsed": false,
    "pycharm": {
     "name": "#%%\n"
    }
   }
  },
  {
   "cell_type": "markdown",
   "source": [
    "VotingClassifier\n"
   ],
   "metadata": {
    "collapsed": false
   }
  },
  {
   "cell_type": "code",
   "execution_count": 952,
   "outputs": [
    {
     "name": "stdout",
     "output_type": "stream",
     "text": [
      "f1_score 0.8205263316147104\n",
      "                                                                                                   precision    recall  f1-score   support\n",
      "\n",
      "                                                                   Жилищно-коммунальное хозяйство       0.75      0.87      0.80       372\n",
      "                                                                                  Здравоохранение       0.93      0.97      0.95       299\n",
      "Благоустройство населённых пунктов (площади, парки, скверы, улицы, дворовые территории, кладбища)       0.74      0.78      0.76       278\n",
      "                                                                             Автомобильные дороги       0.85      0.85      0.85       255\n",
      "                                                                 Социальное обеспечение населения       0.67      0.68      0.67        68\n",
      "                                                                      Общественный транспорт (ОТ)       0.90      0.81      0.85        43\n",
      "                                                                                      Образование       0.96      0.60      0.74        42\n",
      "                                                    Строительство, градостроительная деятельность       0.96      0.60      0.74        40\n",
      "                                                                                     Правопорядок       1.00      0.52      0.69        23\n",
      "                                                                                         Экология       0.89      0.36      0.52        22\n",
      "                                                                               Трудовые отношения       0.86      0.30      0.44        20\n",
      "                                                        Неправомерная деятельность органов власти       0.67      0.11      0.18        19\n",
      "\n",
      "                                                                                         accuracy                           0.81      1481\n",
      "                                                                                        macro avg       0.85      0.62      0.68      1481\n",
      "                                                                                     weighted avg       0.82      0.81      0.81      1481\n",
      "\n"
     ]
    }
   ],
   "source": [
    "from sklearn.ensemble import VotingClassifier\n",
    "from sklearn.linear_model import RidgeClassifier\n",
    "from sklearn.linear_model import LogisticRegression\n",
    "from sklearn.linear_model import SGDClassifier\n",
    "\n",
    "estimators = [('ridge', RidgeClassifier()),\n",
    "              ('lr', LogisticRegression(solver='saga')),\n",
    "              ('sgd', SGDClassifier(max_iter=5000)),\n",
    "              ('rf', RandomForestClassifier(bootstrap=False))]\n",
    "voting = Pipeline([('vect', CountVectorizer()),\n",
    "                  ('tfidf', TfidfTransformer()),\n",
    "                  ('clf', VotingClassifier(estimators=estimators))])\n",
    "\n",
    "voting.fit(X_train, y_train)\n",
    "y_pred = voting.predict(X_test)\n",
    "\n",
    "print('f1_score %s' % f1_score(y_pred, y_test, average='weighted'))\n",
    "print(classification_report(y_test, y_pred, target_names=spheres))"
   ],
   "metadata": {
    "collapsed": false,
    "pycharm": {
     "name": "#%%\n"
    }
   }
  }
 ],
 "metadata": {
  "kernelspec": {
   "display_name": "Python 3",
   "language": "python",
   "name": "python3"
  },
  "language_info": {
   "codemirror_mode": {
    "name": "ipython",
    "version": 2
   },
   "file_extension": ".py",
   "mimetype": "text/x-python",
   "name": "python",
   "nbconvert_exporter": "python",
   "pygments_lexer": "ipython2",
   "version": "2.7.6"
  }
 },
 "nbformat": 4,
 "nbformat_minor": 0
}